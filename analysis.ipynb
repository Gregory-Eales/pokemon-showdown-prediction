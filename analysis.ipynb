{
 "cells": [
  {
   "cell_type": "code",
   "execution_count": 13,
   "metadata": {},
   "outputs": [],
   "source": [
    "import blob\n",
    "import pandas as pd\n",
    "import seaborn as sns\n",
    "import matplotlib.pyplot as plt"
   ]
  },
  {
   "cell_type": "code",
   "execution_count": 2,
   "metadata": {},
   "outputs": [],
   "source": [
    "ladder_df = pd.read_csv('data/ladder_users.csv')"
   ]
  },
  {
   "cell_type": "code",
   "execution_count": 3,
   "metadata": {},
   "outputs": [
    {
     "data": {
      "text/html": [
       "<div>\n",
       "<style scoped>\n",
       "    .dataframe tbody tr th:only-of-type {\n",
       "        vertical-align: middle;\n",
       "    }\n",
       "\n",
       "    .dataframe tbody tr th {\n",
       "        vertical-align: top;\n",
       "    }\n",
       "\n",
       "    .dataframe thead th {\n",
       "        text-align: right;\n",
       "    }\n",
       "</style>\n",
       "<table border=\"1\" class=\"dataframe\">\n",
       "  <thead>\n",
       "    <tr style=\"text-align: right;\">\n",
       "      <th></th>\n",
       "      <th>Unnamed: 0</th>\n",
       "      <th>Name</th>\n",
       "      <th>Elo</th>\n",
       "      <th>GXE</th>\n",
       "      <th>Glicko-1</th>\n",
       "      <th>usernames</th>\n",
       "      <th>ladder_url</th>\n",
       "      <th>Unnamed: 5</th>\n",
       "    </tr>\n",
       "  </thead>\n",
       "  <tbody>\n",
       "    <tr>\n",
       "      <th>0</th>\n",
       "      <td>0</td>\n",
       "      <td>MichaelderBeste2</td>\n",
       "      <td>2366</td>\n",
       "      <td>90.5%</td>\n",
       "      <td>1925 ± 25</td>\n",
       "      <td>michaelderbeste2</td>\n",
       "      <td>https://pokemonshowdown.com/ladder/gen9randomb...</td>\n",
       "      <td>NaN</td>\n",
       "    </tr>\n",
       "    <tr>\n",
       "      <th>1</th>\n",
       "      <td>1</td>\n",
       "      <td>this dude</td>\n",
       "      <td>2341</td>\n",
       "      <td>86.6%</td>\n",
       "      <td>1852 ± 28</td>\n",
       "      <td>thisdude</td>\n",
       "      <td>https://pokemonshowdown.com/ladder/gen9randomb...</td>\n",
       "      <td>NaN</td>\n",
       "    </tr>\n",
       "    <tr>\n",
       "      <th>2</th>\n",
       "      <td>2</td>\n",
       "      <td>yes or no my dude</td>\n",
       "      <td>2325</td>\n",
       "      <td>87.0%</td>\n",
       "      <td>1859 ± 25</td>\n",
       "      <td>yesornomydude</td>\n",
       "      <td>https://pokemonshowdown.com/ladder/gen9randomb...</td>\n",
       "      <td>NaN</td>\n",
       "    </tr>\n",
       "    <tr>\n",
       "      <th>3</th>\n",
       "      <td>3</td>\n",
       "      <td>marrickchill</td>\n",
       "      <td>2323</td>\n",
       "      <td>83.1%</td>\n",
       "      <td>1800 ± 27</td>\n",
       "      <td>marrickchill</td>\n",
       "      <td>https://pokemonshowdown.com/ladder/gen9randomb...</td>\n",
       "      <td>NaN</td>\n",
       "    </tr>\n",
       "    <tr>\n",
       "      <th>4</th>\n",
       "      <td>4</td>\n",
       "      <td>Lady Writer ❄</td>\n",
       "      <td>2321</td>\n",
       "      <td>85.3%</td>\n",
       "      <td>1831 ± 26</td>\n",
       "      <td>ladywriter</td>\n",
       "      <td>https://pokemonshowdown.com/ladder/gen9randomb...</td>\n",
       "      <td>NaN</td>\n",
       "    </tr>\n",
       "  </tbody>\n",
       "</table>\n",
       "</div>"
      ],
      "text/plain": [
       "   Unnamed: 0               Name   Elo    GXE   Glicko-1         usernames  \\\n",
       "0           0   MichaelderBeste2  2366  90.5%  1925 ± 25  michaelderbeste2   \n",
       "1           1          this dude  2341  86.6%  1852 ± 28          thisdude   \n",
       "2           2  yes or no my dude  2325  87.0%  1859 ± 25     yesornomydude   \n",
       "3           3       marrickchill  2323  83.1%  1800 ± 27      marrickchill   \n",
       "4           4      Lady Writer ❄  2321  85.3%  1831 ± 26        ladywriter   \n",
       "\n",
       "                                          ladder_url Unnamed: 5  \n",
       "0  https://pokemonshowdown.com/ladder/gen9randomb...        NaN  \n",
       "1  https://pokemonshowdown.com/ladder/gen9randomb...        NaN  \n",
       "2  https://pokemonshowdown.com/ladder/gen9randomb...        NaN  \n",
       "3  https://pokemonshowdown.com/ladder/gen9randomb...        NaN  \n",
       "4  https://pokemonshowdown.com/ladder/gen9randomb...        NaN  "
      ]
     },
     "execution_count": 3,
     "metadata": {},
     "output_type": "execute_result"
    }
   ],
   "source": [
    "ladder_df.head()"
   ]
  },
  {
   "cell_type": "code",
   "execution_count": 16,
   "metadata": {},
   "outputs": [
    {
     "name": "stdout",
     "output_type": "stream",
     "text": [
      "unique users: 10131\n",
      "unique ladders: 23\n"
     ]
    }
   ],
   "source": [
    "# number of unique usernames\n",
    "print(\"unique users:\", len(ladder_df['usernames'].unique()))\n",
    "\n",
    "# number of unique ladders\n",
    "print(\"unique ladders:\", len(ladder_df['ladder_url'].unique()))\n"
   ]
  },
  {
   "cell_type": "code",
   "execution_count": 15,
   "metadata": {},
   "outputs": [
    {
     "data": {
      "image/png": "[encoded data removed]",
      "text/plain": [
       "<Figure size 1000x600 with 1 Axes>"
      ]
     },
     "metadata": {},
     "output_type": "display_data"
    }
   ],
   "source": [
    "#ladder_df['Elo'].hist(bins=50)\n",
    "\n",
    "sns.set_style(\"darkgrid\")  # set the style of the plot\n",
    "fig, ax = plt.subplots(figsize=(10, 6))  # create a new figure with a custom size\n",
    "\n",
    "# plot the histogram using Seaborn's distplot function\n",
    "sns.histplot(ladder_df['Elo'], ax=ax, bins=50, kde=False)\n",
    "\n",
    "# customize the plot labels and title\n",
    "ax.set_xlabel(\"Elo Score\")\n",
    "ax.set_ylabel(\"Frequency\")\n",
    "ax.set_title(\"Distribution of Elo Scores in all Ladders\")\n",
    "\n",
    "plt.show()  # display the plot"
   ]
  }
 ],
 "metadata": {
  "kernelspec": {
   "display_name": "Python 3.9.6 64-bit",
   "language": "python",
   "name": "python3"
  },
  "language_info": {
   "codemirror_mode": {
    "name": "ipython",
    "version": 3
   },
   "file_extension": ".py",
   "mimetype": "text/x-python",
   "name": "python",
   "nbconvert_exporter": "python",
   "pygments_lexer": "ipython3",
   "version": "3.9.6"
  },
  "orig_nbformat": 4,
  "vscode": {
   "interpreter": {
    "hash": "31f2aee4e71d21fbe5cf8b01ff0e069b9275f58929596ceb00d14d90e3e16cd6"
   }
  }
 },
 "nbformat": 4,
 "nbformat_minor": 2
}
